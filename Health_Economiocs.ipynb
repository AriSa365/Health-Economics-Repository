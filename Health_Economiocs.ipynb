{
  "nbformat": 4,
  "nbformat_minor": 0,
  "metadata": {
    "colab": {
      "provenance": []
    },
    "kernelspec": {
      "name": "python3",
      "display_name": "Python 3"
    },
    "language_info": {
      "name": "python"
    }
  },
  "cells": [
    {
      "cell_type": "markdown",
      "source": [
        "#Health Economic Modelling"
      ],
      "metadata": {
        "id": "rrO7q7rw9_Mk"
      }
    },
    {
      "cell_type": "code",
      "source": [
        "# Define the costs and effectiveness of the interventions\n",
        "intervention_A = {'cost': 10000, 'effectiveness': 5}  # Example values\n",
        "intervention_B = {'cost': 15000, 'effectiveness': 8}  # Example values\n",
        "\n",
        "# Calculate the incremental cost and effectiveness\n",
        "incremental_cost = intervention_B['cost'] - intervention_A['cost']\n",
        "incremental_effectiveness = intervention_B['effectiveness'] - intervention_A['effectiveness']\n",
        "\n",
        "# Calculate the Incremental Cost-Effectiveness Ratio (ICER)\n",
        "icer = incremental_cost / incremental_effectiveness\n",
        "\n",
        "# Define the willingness-to-pay threshold\n",
        "willingness_to_pay_threshold = 20000  # Example value\n",
        "\n",
        "# Determine cost-effectiveness\n",
        "if icer <= willingness_to_pay_threshold:\n",
        "    result = \"Intervention B is cost-effective compared to Intervention A.\"\n",
        "else:\n",
        "    result = \"Intervention B is not cost-effective compared to Intervention A.\"\n",
        "\n",
        "# Print the results\n",
        "print(f\"Incremental Cost: ${incremental_cost}\")\n",
        "print(f\"Incremental Effectiveness: {incremental_effectiveness}\")\n",
        "print(f\"ICER: ${icer}\")\n",
        "print(result)"
      ],
      "metadata": {
        "colab": {
          "base_uri": "https://localhost:8080/"
        },
        "id": "WjC3PG0z6WqC",
        "outputId": "d996f23b-c29b-4bb9-dd44-d96752834233"
      },
      "execution_count": null,
      "outputs": [
        {
          "output_type": "stream",
          "name": "stdout",
          "text": [
            "Incremental Cost: $5000\n",
            "Incremental Effectiveness: 3\n",
            "ICER: $1666.6666666666667\n",
            "Intervention B is cost-effective compared to Intervention A.\n"
          ]
        }
      ]
    },
    {
      "cell_type": "markdown",
      "source": [
        "## Monte Carlo Simulation"
      ],
      "metadata": {
        "id": "mjFlqWSZ6_hq"
      }
    },
    {
      "cell_type": "code",
      "execution_count": null,
      "metadata": {
        "colab": {
          "base_uri": "https://localhost:8080/"
        },
        "id": "KwxP93Fv6IXi",
        "outputId": "7110b108-271f-4526-db69-3e5f1b15aa25"
      },
      "outputs": [
        {
          "output_type": "stream",
          "name": "stdout",
          "text": [
            "Probability that Intervention B is cost-effective: 99.90%\n"
          ]
        }
      ],
      "source": [
        "import numpy as np\n",
        "\n",
        "# Define the costs and effectiveness of the interventions with uncertainty\n",
        "np.random.seed(0)  # For reproducibility\n",
        "cost_A = np.random.normal(10000, 1000, 1000)  # Mean = 10000, SD = 1000, 1000 samples\n",
        "effectiveness_A = np.random.normal(5, 0.5, 1000)  # Mean = 5, SD = 0.5, 1000 samples\n",
        "\n",
        "cost_B = np.random.normal(15000, 1500, 1000)  # Mean = 15000, SD = 1500, 1000 samples\n",
        "effectiveness_B = np.random.normal(8, 0.8, 1000)  # Mean = 8, SD = 0.8, 1000 samples\n",
        "\n",
        "# Calculate the incremental cost and effectiveness\n",
        "incremental_cost = cost_B - cost_A\n",
        "incremental_effectiveness = effectiveness_B - effectiveness_A\n",
        "\n",
        "# Calculate the ICER\n",
        "icer = incremental_cost / incremental_effectiveness\n",
        "\n",
        "# Define the willingness-to-pay threshold\n",
        "willingness_to_pay_threshold = 20000  # Example value\n",
        "\n",
        "# Calculate the proportion of simulations where intervention B is cost-effective\n",
        "cost_effective = np.mean(icer <= willingness_to_pay_threshold)\n",
        "\n",
        "# Print the results\n",
        "print(f\"Probability that Intervention B is cost-effective: {cost_effective * 100:.2f}%\")"
      ]
    },
    {
      "cell_type": "markdown",
      "source": [
        "## Decision Tree Modeling"
      ],
      "metadata": {
        "id": "WwDHRXkF77-y"
      }
    },
    {
      "cell_type": "code",
      "source": [
        "# Define the structure of the decision tree\n",
        "class Node:\n",
        "    def __init__(self, name, probability, cost, effectiveness):\n",
        "        self.name = name\n",
        "        self.probability = probability\n",
        "        self.cost = cost\n",
        "        self.effectiveness = effectiveness\n",
        "        self.children = []\n",
        "\n",
        "    def add_child(self, child):\n",
        "        self.children.append(child)\n",
        "\n",
        "# Define the nodes for Treatment A\n",
        "treatment_a = Node('Treatment A', 1.0, 0, 0)\n",
        "partial_success_a = Node('Partial Success A', 0.5, 3000, 4)\n",
        "complications_a = Node('Complications A', 0.2, 6000, 3)\n",
        "failure_a = Node('Failure A', 0.3, 2000, 2)\n",
        "treatment_a.add_child(partial_success_a)\n",
        "treatment_a.add_child(complications_a)\n",
        "treatment_a.add_child(failure_a)\n",
        "success_a = Node('Success A', 1.0, 2000, 5)\n",
        "partial_success_a.add_child(success_a)\n",
        "complications_success_a = Node('Success after Complications A', 1.0, 4000, 4)\n",
        "complications_a.add_child(complications_success_a)\n",
        "\n",
        "# Define the nodes for Treatment B\n",
        "treatment_b = Node('Treatment B', 1.0, 0, 0)\n",
        "partial_success_b = Node('Partial Success B', 0.4, 4000, 4)\n",
        "complications_b = Node('Complications B', 0.3, 7000, 2)\n",
        "failure_b = Node('Failure B', 0.3, 3000, 2)\n",
        "treatment_b.add_child(partial_success_b)\n",
        "treatment_b.add_child(complications_b)\n",
        "treatment_b.add_child(failure_b)\n",
        "success_b = Node('Success B', 1.0, 3000, 6)\n",
        "partial_success_b.add_child(success_b)\n",
        "complications_success_b = Node('Success after Complications B', 1.0, 5000, 3)\n",
        "complications_b.add_child(complications_success_b)\n",
        "\n",
        "# Define the nodes for Treatment C\n",
        "treatment_c = Node('Treatment C', 1.0, 0, 0)\n",
        "partial_success_c = Node('Partial Success C', 0.6, 5000, 5)\n",
        "complications_c = Node('Complications C', 0.1, 8000, 1)\n",
        "failure_c = Node('Failure C', 0.3, 2500, 2)\n",
        "treatment_c.add_child(partial_success_c)\n",
        "treatment_c.add_child(complications_c)\n",
        "treatment_c.add_child(failure_c)\n",
        "success_c = Node('Success C', 1.0, 2500, 7)\n",
        "partial_success_c.add_child(success_c)\n",
        "complications_success_c = Node('Success after Complications C', 1.0, 6000, 2)\n",
        "complications_c.add_child(complications_success_c)\n",
        "\n",
        "# Define a function to calculate the expected cost and effectiveness\n",
        "def calculate_expected_values(node):\n",
        "    if not node.children:\n",
        "        return node.probability * node.cost, node.probability * node.effectiveness\n",
        "    expected_cost = 0\n",
        "    expected_effectiveness = 0\n",
        "    for child in node.children:\n",
        "        child_cost, child_effectiveness = calculate_expected_values(child)\n",
        "        expected_cost += node.probability * child_cost\n",
        "        expected_effectiveness += node.probability * child_effectiveness\n",
        "    return node.cost + expected_cost, expected_effectiveness\n",
        "\n",
        "# Calculate the expected values for each treatment\n",
        "expected_cost_a, expected_effectiveness_a = calculate_expected_values(treatment_a)\n",
        "expected_cost_b, expected_effectiveness_b = calculate_expected_values(treatment_b)\n",
        "expected_cost_c, expected_effectiveness_c = calculate_expected_values(treatment_c)\n",
        "\n",
        "# Print the results\n",
        "print(f\"Treatment A - Expected Cost: ${expected_cost_a}, Expected Effectiveness: {expected_effectiveness_a}\")\n",
        "print(f\"Treatment B - Expected Cost: ${expected_cost_b}, Expected Effectiveness: {expected_effectiveness_b}\")\n",
        "print(f\"Treatment C - Expected Cost: ${expected_cost_c}, Expected Effectiveness: {expected_effectiveness_c}\")\n",
        "\n",
        "# Compare the treatments\n",
        "def compare_treatments(cost_a, eff_a, cost_b, eff_b, cost_c, eff_c):\n",
        "    treatments = {'Treatment A': (cost_a, eff_a), 'Treatment B': (cost_b, eff_b), 'Treatment C': (cost_c, eff_c)}\n",
        "    sorted_treatments = sorted(treatments.items(), key=lambda x: (x[1][0], -x[1][1]))  # Sort by cost, then by effectiveness\n",
        "\n",
        "    print(\"\\nTreatment Comparison (sorted by cost, then by effectiveness):\")\n",
        "    for treatment, values in sorted_treatments:\n",
        "        print(f\"{treatment}: Expected Cost = ${values[0]}, Expected Effectiveness = {values[1]}\")\n",
        "\n",
        "compare_treatments(expected_cost_a, expected_effectiveness_a, expected_cost_b, expected_effectiveness_b, expected_cost_c, expected_effectiveness_c)"
      ],
      "metadata": {
        "colab": {
          "base_uri": "https://localhost:8080/"
        },
        "id": "fbGnA9366LFn",
        "outputId": "0a1427d6-0a37-4fc1-8909-98f7a8ce1920"
      },
      "execution_count": null,
      "outputs": [
        {
          "output_type": "stream",
          "name": "stdout",
          "text": [
            "Treatment A - Expected Cost: $11400.0, Expected Effectiveness: 3.9\n",
            "Treatment B - Expected Cost: $14600.0, Expected Effectiveness: 3.9000000000000004\n",
            "Treatment C - Expected Cost: $15850.0, Expected Effectiveness: 5.0\n",
            "\n",
            "Treatment Comparison (sorted by cost, then by effectiveness):\n",
            "Treatment A: Expected Cost = $11400.0, Expected Effectiveness = 3.9\n",
            "Treatment B: Expected Cost = $14600.0, Expected Effectiveness = 3.9000000000000004\n",
            "Treatment C: Expected Cost = $15850.0, Expected Effectiveness = 5.0\n"
          ]
        }
      ]
    },
    {
      "cell_type": "markdown",
      "source": [
        "## Markov Model"
      ],
      "metadata": {
        "id": "5QEj2UUl8-0i"
      }
    },
    {
      "cell_type": "code",
      "source": [
        "import numpy as np\n",
        "\n",
        "# Define the health states\n",
        "states = [\"Healthy\", \"Sick\", \"Dead\"]\n",
        "state_indices = {state: i for i, state in enumerate(states)}\n",
        "\n",
        "# Transition probabilities for Treatment A\n",
        "transition_matrix_A = np.array([\n",
        "    [0.70, 0.20, 0.10],  # Healthy -> [Healthy, Sick, Dead]\n",
        "    [0.05, 0.80, 0.15],  # Sick -> [Healthy, Sick, Dead]\n",
        "    [0.00, 0.00, 1.00]   # Dead -> [Healthy, Sick, Dead]\n",
        "])\n",
        "\n",
        "# Transition probabilities for Treatment B\n",
        "transition_matrix_B = np.array([\n",
        "    [0.75, 0.15, 0.10],  # Healthy -> [Healthy, Sick, Dead]\n",
        "    [0.10, 0.75, 0.15],  # Sick -> [Healthy, Sick, Dead]\n",
        "    [0.00, 0.00, 1.00]   # Dead -> [Healthy, Sick, Dead]\n",
        "])\n",
        "\n",
        "# Costs associated with each state\n",
        "state_costs = {\n",
        "    \"Healthy\": 100,\n",
        "    \"Sick\": 1000,\n",
        "    \"Dead\": 0\n",
        "}\n",
        "\n",
        "# Utilities associated with each state (QALYs)\n",
        "state_utilities = {\n",
        "    \"Healthy\": 1.0,\n",
        "    \"Sick\": 0.5,\n",
        "    \"Dead\": 0.0\n",
        "}\n",
        "\n",
        "# Define initial state distribution\n",
        "initial_state_distribution = np.array([1.0, 0.0, 0.0])  # 100% Healthy at start\n",
        "\n",
        "# Time horizon for the simulation\n",
        "time_horizon = 10\n",
        "\n",
        "# Function to simulate the Markov model\n",
        "def simulate_markov(transition_matrix, initial_state_distribution, state_costs, state_utilities, time_horizon):\n",
        "    state_distribution = initial_state_distribution.copy()\n",
        "    costs = []\n",
        "    utilities = []\n",
        "\n",
        "    for t in range(time_horizon):\n",
        "        costs.append(np.dot(state_distribution, [state_costs[state] for state in states]))\n",
        "        utilities.append(np.dot(state_distribution, [state_utilities[state] for state in states]))\n",
        "        state_distribution = np.dot(state_distribution, transition_matrix)\n",
        "\n",
        "    total_cost = np.sum(costs)\n",
        "    total_utility = np.sum(utilities)\n",
        "\n",
        "    return total_cost, total_utility\n",
        "\n",
        "# Simulate the Markov model for both treatments\n",
        "total_cost_A, total_utility_A = simulate_markov(transition_matrix_A, initial_state_distribution, state_costs, state_utilities, time_horizon)\n",
        "total_cost_B, total_utility_B = simulate_markov(transition_matrix_B, initial_state_distribution, state_costs, state_utilities, time_horizon)\n",
        "\n",
        "# Print the results\n",
        "print(f\"Treatment A - Total Cost: ${total_cost_A}, Total QALYs: {total_utility_A}\")\n",
        "print(f\"Treatment B - Total Cost: ${total_cost_B}, Total QALYs: {total_utility_B}\")\n",
        "\n",
        "# Calculate the Incremental Cost-Effectiveness Ratio (ICER)\n",
        "incremental_cost = total_cost_B - total_cost_A\n",
        "incremental_effectiveness = total_utility_B - total_utility_A\n",
        "icer = incremental_cost / incremental_effectiveness\n",
        "\n",
        "# Print the ICER\n",
        "print(f\"Incremental Cost-Effectiveness Ratio (ICER): ${icer}\")"
      ],
      "metadata": {
        "colab": {
          "base_uri": "https://localhost:8080/"
        },
        "id": "1Ja53lJR8B1B",
        "outputId": "8c742b88-0500-46dd-e090-8e99a24df5b0"
      },
      "execution_count": null,
      "outputs": [
        {
          "output_type": "stream",
          "name": "stdout",
          "text": [
            "Treatment A - Total Cost: $2917.6560625, Total QALYs: 4.8081581249999985\n",
            "Treatment B - Total Cost: $2371.013508668945, Total QALYs: 5.221459710422851\n",
            "Incremental Cost-Effectiveness Ratio (ICER): $-1322.6238976842558\n"
          ]
        }
      ]
    },
    {
      "cell_type": "code",
      "source": [],
      "metadata": {
        "id": "aRfoidO79Bok"
      },
      "execution_count": null,
      "outputs": []
    }
  ]
}